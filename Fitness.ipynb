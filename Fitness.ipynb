{
 "cells": [
  {
   "cell_type": "markdown",
   "id": "3a817716",
   "metadata": {},
   "source": [
    "# Notebook 1 for analysis of mutiple plates fitness"
   ]
  },
  {
   "cell_type": "code",
   "execution_count": null,
   "id": "05140199",
   "metadata": {},
   "outputs": [],
   "source": [
    "import Fitness as To\n",
    "import os\n",
    "import warnings\n",
    "warnings.filterwarnings('ignore')\n"
   ]
  },
  {
   "cell_type": "code",
   "execution_count": null,
   "id": "2b31e23c",
   "metadata": {},
   "outputs": [],
   "source": [
    "my_root_path = ''\n",
    "subfolder = ['Day1',\n",
    "             'Day2',\n",
    "             'Day3']\n",
    "Ref = 'A10' #coordinates of reference well for gating\n",
    "Specimen = 'Plate' #'Tubes'                   \n",
    "Number_Rows = [\"A\",\"B\",\"C\",\"D\",\"E\",\"F\",\"G\",\"H\"]\n",
    "Number_Columns = ['10', '11', '12']# '07', '08', '09', '10', '11', '12']\n",
    "\n",
    "replica = 3\n",
    "structure = 'horizontal' # Replica orientaion \n",
    "well_ind = 8 * 3 #number of rows * number of columns\n",
    "dilution_factor = [1500] * well_ind # Dilution Factor * Number of wells             \n",
    "\n",
    "\n",
    "# labels for your data; can be the same as in Number_Rows (Tubes)\n",
    "labels = ['WT','Anc',\n",
    "          'S1',\n",
    "          'S2',\n",
    "          'S3']\n",
    "\n",
    "\n",
    "colorlabels = ['go', 'rx', 'c*', 'md', 'y+', 'kh', 'bp', 'ro', 'cx', 'm*', 'yd', 'k+'] #'bh', 'bp'\n",
    "\n",
    "l = ['WT','Anc',\n",
    "          'S1',\n",
    "          'S2',\n",
    "          'S3'] #characters should not be repeated for further steps\n",
    "\n",
    "labels_list = [[label] * replica for label in labels] #creat a list of labels (multiply by number of replicas)\n",
    "\n",
    "labels_comb = [] #combine the list so the final lenght is 48 and not 8\n",
    "for sublist in labels_list:\n",
    "    for item in sublist:\n",
    "        labels_comb.append(item)\n",
    "        \n",
    "l_list = [[l] * replica for l in l]\n",
    "\n",
    "l_comb = [] #combine the list so the final lenght is 48 and not 8\n",
    "for sublist in l_list:\n",
    "    for item in sublist:\n",
    "        l_comb.append(item)\n",
    " "
   ]
  },
  {
   "cell_type": "code",
   "execution_count": null,
   "id": "f0b6f45d",
   "metadata": {},
   "outputs": [],
   "source": [
    "files = To.rename_FCSfiles(my_root_path, subfolder)\n",
    "    \n",
    "ReferenceData = To.chooseFileGating(Ref, my_root_path, subfolder)\n",
    "print(ReferenceData)"
   ]
  },
  {
   "cell_type": "code",
   "execution_count": null,
   "id": "e60e0f59",
   "metadata": {},
   "outputs": [],
   "source": [
    "Color = 'Cerulean' #Citrin #Cerulean #mCherry\n",
    "\n",
    "Cells = [(5.830e+03, 4.293e+03), (5.904e+03, 7.673e+03), (6.951e+03, 8.732e+03), (8.194e+03, 8.869e+03), (8.544e+03, 8.835e+03), (8.406e+03, 7.178e+03), (7.944e+03, 4.583e+03), (7.051e+03, 3.883e+03)]\n",
    "ColorRef = [(3.931e+03, 6.085e+03), (6.240e+03, 5.814e+03), (1.027e+04, 6.313e+03), (1.056e+04, 8.592e+03), (6.531e+03, 8.635e+03), (3.427e+03, 7.955e+03)]"
   ]
  },
  {
   "cell_type": "code",
   "execution_count": null,
   "id": "60b3c9a5",
   "metadata": {},
   "outputs": [],
   "source": [
    "GateC, GateCo = To.GateReferenceData(ReferenceData, Color, Cells, ColorRef)"
   ]
  },
  {
   "cell_type": "code",
   "execution_count": null,
   "metadata": {},
   "outputs": [],
   "source": [
    "datacounts_list = To.GateData(my_root_path, subfolder, Color, Cells, ColorRef, Specimen)"
   ]
  },
  {
   "cell_type": "code",
   "execution_count": null,
   "metadata": {},
   "outputs": [],
   "source": [
    "#Separating two datalists for two time points or three\n",
    "datacountsI_list = To.StoreDataframes(my_root_path, subfolder, datacounts_list)\n",
    "datacountsI_list_2days = datacountsI_list[:2]"
   ]
  },
  {
   "cell_type": "code",
   "execution_count": null,
   "metadata": {},
   "outputs": [],
   "source": [
    "#Generates the ln ratios for fitness calculation\n",
    "well_ind, SampleList_lnRatio, SampleList_CumGenerations = To.CalculateParameters(my_root_path, \n",
    "                                                                                 subfolder, \n",
    "                                                                                 Number_Rows, \n",
    "                                                                                 Number_Columns, \n",
    "                                                                                 datacountsI_list,\n",
    "                                                                                 dilution_factor,\n",
    "                                                                                 Specimen,\n",
    "                                                                                 structure)\n"
   ]
  }
 ],
 "metadata": {
  "kernelspec": {
   "display_name": "Python 3 (ipykernel)",
   "language": "python",
   "name": "python3"
  },
  "language_info": {
   "codemirror_mode": {
    "name": "ipython",
    "version": 3
   },
   "file_extension": ".py",
   "mimetype": "text/x-python",
   "name": "python",
   "nbconvert_exporter": "python",
   "pygments_lexer": "ipython3",
   "version": "3.9.6"
  },
  "varInspector": {
   "cols": {
    "lenName": 16,
    "lenType": 16,
    "lenVar": 40
   },
   "kernels_config": {
    "python": {
     "delete_cmd_postfix": "",
     "delete_cmd_prefix": "del ",
     "library": "var_list.py",
     "varRefreshCmd": "print(var_dic_list())"
    },
    "r": {
     "delete_cmd_postfix": ") ",
     "delete_cmd_prefix": "rm(",
     "library": "var_list.r",
     "varRefreshCmd": "cat(var_dic_list()) "
    }
   },
   "types_to_exclude": [
    "module",
    "function",
    "builtin_function_or_method",
    "instance",
    "_Feature"
   ],
   "window_display": false
  }
 },
 "nbformat": 4,
 "nbformat_minor": 5
}
